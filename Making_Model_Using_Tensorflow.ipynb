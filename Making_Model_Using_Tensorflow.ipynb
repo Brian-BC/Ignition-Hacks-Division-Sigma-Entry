{
  "nbformat": 4,
  "nbformat_minor": 0,
  "metadata": {
    "colab": {
      "name": "Making Model Using Tensorflow",
      "provenance": [],
      "collapsed_sections": []
    },
    "kernelspec": {
      "name": "python3",
      "display_name": "Python 3"
    },
    "accelerator": "GPU"
  },
  "cells": [
    {
      "cell_type": "code",
      "metadata": {
        "id": "x3HMEXgBU3Q5",
        "colab_type": "code",
        "colab": {
          "base_uri": "https://localhost:8080/",
          "height": 34
        },
        "outputId": "94d539f4-37a7-4e22-828c-9d875c9b3333"
      },
      "source": [
        "import numpy as np\n",
        "import pandas as pd\n",
        "\n",
        "import tensorflow as tf\n",
        "from tensorflow import keras\n",
        "from tensorflow.keras.preprocessing.text import Tokenizer\n",
        "from tensorflow.keras.preprocessing.sequence import pad_sequences\n",
        "\n",
        "from google.colab import files\n",
        "from google.colab import drive\n",
        "import io\n",
        "\n",
        "#mounting googler drive\n",
        "drive.mount(\"/content/gdrive\")\n",
        "\n",
        "#file path to where the model is saved\n",
        "project_path = \"gdrive/My Drive/Colab Notebooks/Ignition Hack/\""
      ],
      "execution_count": null,
      "outputs": [
        {
          "output_type": "stream",
          "text": [
            "Drive already mounted at /content/gdrive; to attempt to forcibly remount, call drive.mount(\"/content/gdrive\", force_remount=True).\n"
          ],
          "name": "stdout"
        }
      ]
    },
    {
      "cell_type": "markdown",
      "metadata": {
        "id": "0CRkLAc11Hgy",
        "colab_type": "text"
      },
      "source": [
        "**Defining variables for ease of access and manipulability**"
      ]
    },
    {
      "cell_type": "code",
      "metadata": {
        "id": "3exmb_pCZR_h",
        "colab_type": "code",
        "colab": {}
      },
      "source": [
        "#variables\n",
        "training_size = 700000\n",
        "oov_tok = \"<OOV>\"\n",
        "trunc_type='post'\n",
        "padding_type='post'\n",
        "embedding_dim = 16\n",
        "max_length = 32\n",
        "vocab_size = 28000"
      ],
      "execution_count": null,
      "outputs": []
    },
    {
      "cell_type": "markdown",
      "metadata": {
        "id": "jatL9j-N1CJj",
        "colab_type": "text"
      },
      "source": [
        "**Data preprocessing**"
      ]
    },
    {
      "cell_type": "code",
      "metadata": {
        "id": "8DQmxCv1q3YI",
        "colab_type": "code",
        "colab": {
          "base_uri": "https://localhost:8080/",
          "height": 204
        },
        "outputId": "1703c61a-7a96-40cc-9cc6-3386c9aaac59"
      },
      "source": [
        "#loading the full training CSV file\n",
        "raw_data = pd.read_csv(project_path + \"/data/training_data.csv\")\n",
        "\n",
        "#clean data for case and punctuation\n",
        "clean_data = raw_data\n",
        "clean_data.Text = raw_data.Text.apply(lambda x: \" \".join(word.lower() for word in x.split()))\n",
        "clean_data.Text = clean_data.Text.str.replace('[^\\w\\s]', '')\n",
        "\n",
        "#display a sample from the array\n",
        "clean_data.head()"
      ],
      "execution_count": null,
      "outputs": [
        {
          "output_type": "execute_result",
          "data": {
            "text/html": [
              "<div>\n",
              "<style scoped>\n",
              "    .dataframe tbody tr th:only-of-type {\n",
              "        vertical-align: middle;\n",
              "    }\n",
              "\n",
              "    .dataframe tbody tr th {\n",
              "        vertical-align: top;\n",
              "    }\n",
              "\n",
              "    .dataframe thead th {\n",
              "        text-align: right;\n",
              "    }\n",
              "</style>\n",
              "<table border=\"1\" class=\"dataframe\">\n",
              "  <thead>\n",
              "    <tr style=\"text-align: right;\">\n",
              "      <th></th>\n",
              "      <th>ID</th>\n",
              "      <th>User</th>\n",
              "      <th>Text</th>\n",
              "      <th>Sentiment</th>\n",
              "    </tr>\n",
              "  </thead>\n",
              "  <tbody>\n",
              "    <tr>\n",
              "      <th>0</th>\n",
              "      <td>864192</td>\n",
              "      <td>Carly_FTS</td>\n",
              "      <td>i heart filling up dennisschaub desk 1 it mean...</td>\n",
              "      <td>1</td>\n",
              "    </tr>\n",
              "    <tr>\n",
              "      <th>1</th>\n",
              "      <td>523691</td>\n",
              "      <td>Open_Sourcing</td>\n",
              "      <td>sociomat  people create prettier younger and b...</td>\n",
              "      <td>1</td>\n",
              "    </tr>\n",
              "    <tr>\n",
              "      <th>2</th>\n",
              "      <td>584154</td>\n",
              "      <td>xxcharlx</td>\n",
              "      <td>no way i dont want the tour to end</td>\n",
              "      <td>0</td>\n",
              "    </tr>\n",
              "    <tr>\n",
              "      <th>3</th>\n",
              "      <td>1527961</td>\n",
              "      <td>andreapuddu</td>\n",
              "      <td>hemalradia hi amazing brother sending limitles...</td>\n",
              "      <td>1</td>\n",
              "    </tr>\n",
              "    <tr>\n",
              "      <th>4</th>\n",
              "      <td>28609</td>\n",
              "      <td>umbec</td>\n",
              "      <td>flockmaster they are chocolate</td>\n",
              "      <td>1</td>\n",
              "    </tr>\n",
              "  </tbody>\n",
              "</table>\n",
              "</div>"
            ],
            "text/plain": [
              "        ID  ... Sentiment\n",
              "0   864192  ...         1\n",
              "1   523691  ...         1\n",
              "2   584154  ...         0\n",
              "3  1527961  ...         1\n",
              "4    28609  ...         1\n",
              "\n",
              "[5 rows x 4 columns]"
            ]
          },
          "metadata": {
            "tags": []
          },
          "execution_count": 3
        }
      ]
    },
    {
      "cell_type": "code",
      "metadata": {
        "id": "XL8RtM5OtUjU",
        "colab_type": "code",
        "colab": {
          "base_uri": "https://localhost:8080/",
          "height": 34
        },
        "outputId": "5498d01f-4be3-4ba1-8a0a-ff21e0770c2a"
      },
      "source": [
        "#reshaping the data to remove the first 2 columns\n",
        "clean_data = clean_data.drop(columns=['ID','User'])\n",
        "\n",
        "#display the new array size\n",
        "clean_data.shape"
      ],
      "execution_count": null,
      "outputs": [
        {
          "output_type": "execute_result",
          "data": {
            "text/plain": [
              "(1000000, 2)"
            ]
          },
          "metadata": {
            "tags": []
          },
          "execution_count": 4
        }
      ]
    },
    {
      "cell_type": "code",
      "metadata": {
        "id": "CKQzA8GcYY1R",
        "colab_type": "code",
        "colab": {
          "base_uri": "https://localhost:8080/",
          "height": 204
        },
        "outputId": "99a8a488-4551-4b06-ca50-d3f596fb0c66"
      },
      "source": [
        "#display a sample from the reshaped array\n",
        "clean_data.head()"
      ],
      "execution_count": null,
      "outputs": [
        {
          "output_type": "execute_result",
          "data": {
            "text/html": [
              "<div>\n",
              "<style scoped>\n",
              "    .dataframe tbody tr th:only-of-type {\n",
              "        vertical-align: middle;\n",
              "    }\n",
              "\n",
              "    .dataframe tbody tr th {\n",
              "        vertical-align: top;\n",
              "    }\n",
              "\n",
              "    .dataframe thead th {\n",
              "        text-align: right;\n",
              "    }\n",
              "</style>\n",
              "<table border=\"1\" class=\"dataframe\">\n",
              "  <thead>\n",
              "    <tr style=\"text-align: right;\">\n",
              "      <th></th>\n",
              "      <th>Text</th>\n",
              "      <th>Sentiment</th>\n",
              "    </tr>\n",
              "  </thead>\n",
              "  <tbody>\n",
              "    <tr>\n",
              "      <th>0</th>\n",
              "      <td>i heart filling up dennisschaub desk 1 it mean...</td>\n",
              "      <td>1</td>\n",
              "    </tr>\n",
              "    <tr>\n",
              "      <th>1</th>\n",
              "      <td>sociomat  people create prettier younger and b...</td>\n",
              "      <td>1</td>\n",
              "    </tr>\n",
              "    <tr>\n",
              "      <th>2</th>\n",
              "      <td>no way i dont want the tour to end</td>\n",
              "      <td>0</td>\n",
              "    </tr>\n",
              "    <tr>\n",
              "      <th>3</th>\n",
              "      <td>hemalradia hi amazing brother sending limitles...</td>\n",
              "      <td>1</td>\n",
              "    </tr>\n",
              "    <tr>\n",
              "      <th>4</th>\n",
              "      <td>flockmaster they are chocolate</td>\n",
              "      <td>1</td>\n",
              "    </tr>\n",
              "  </tbody>\n",
              "</table>\n",
              "</div>"
            ],
            "text/plain": [
              "                                                Text  Sentiment\n",
              "0  i heart filling up dennisschaub desk 1 it mean...          1\n",
              "1  sociomat  people create prettier younger and b...          1\n",
              "2                 no way i dont want the tour to end          0\n",
              "3  hemalradia hi amazing brother sending limitles...          1\n",
              "4                     flockmaster they are chocolate          1"
            ]
          },
          "metadata": {
            "tags": []
          },
          "execution_count": 5
        }
      ]
    },
    {
      "cell_type": "code",
      "metadata": {
        "id": "qV7FbIsFWHla",
        "colab_type": "code",
        "colab": {}
      },
      "source": [
        "#splitting the shaped array into 2 seperate arrays for sentences and labels\n",
        "sentences = clean_data['Text']\n",
        "labels = clean_data['Sentiment']"
      ],
      "execution_count": null,
      "outputs": []
    },
    {
      "cell_type": "code",
      "metadata": {
        "id": "Z2FqNNKhYvR3",
        "colab_type": "code",
        "colab": {
          "base_uri": "https://localhost:8080/",
          "height": 119
        },
        "outputId": "d499af03-1f43-4be6-c296-293e0c49b7b3"
      },
      "source": [
        "#display a sample from the sentences array\n",
        "sentences.head()"
      ],
      "execution_count": null,
      "outputs": [
        {
          "output_type": "execute_result",
          "data": {
            "text/plain": [
              "0    i heart filling up dennisschaub desk 1 it mean...\n",
              "1    sociomat  people create prettier younger and b...\n",
              "2                   no way i dont want the tour to end\n",
              "3    hemalradia hi amazing brother sending limitles...\n",
              "4                       flockmaster they are chocolate\n",
              "Name: Text, dtype: object"
            ]
          },
          "metadata": {
            "tags": []
          },
          "execution_count": 7
        }
      ]
    },
    {
      "cell_type": "code",
      "metadata": {
        "id": "fep-t7pmZDLS",
        "colab_type": "code",
        "colab": {
          "base_uri": "https://localhost:8080/",
          "height": 119
        },
        "outputId": "c27bab11-741f-4da9-f5b9-5be25e4b50f5"
      },
      "source": [
        "#display a sample from the labels array\n",
        "labels.head()"
      ],
      "execution_count": null,
      "outputs": [
        {
          "output_type": "execute_result",
          "data": {
            "text/plain": [
              "0    1\n",
              "1    1\n",
              "2    0\n",
              "3    1\n",
              "4    1\n",
              "Name: Sentiment, dtype: int64"
            ]
          },
          "metadata": {
            "tags": []
          },
          "execution_count": 8
        }
      ]
    },
    {
      "cell_type": "code",
      "metadata": {
        "id": "oW7aWR-nZmme",
        "colab_type": "code",
        "colab": {}
      },
      "source": [
        "#splitting the data into 4 arrays for training using the predetermined training size\n",
        "training_sentences = sentences[0:training_size]\n",
        "testing_sentences = sentences[training_size:]\n",
        "training_labels = labels[0:training_size]\n",
        "testing_labels = labels[training_size:]"
      ],
      "execution_count": null,
      "outputs": []
    },
    {
      "cell_type": "markdown",
      "metadata": {
        "id": "ojaN39Dm07L9",
        "colab_type": "text"
      },
      "source": [
        "**Tokenizing and padding the tweets**"
      ]
    },
    {
      "cell_type": "code",
      "metadata": {
        "id": "POf6ezveejih",
        "colab_type": "code",
        "colab": {}
      },
      "source": [
        "#initiating the tokenizer\n",
        "tokenizer = Tokenizer(num_words=vocab_size, oov_token=oov_tok)\n",
        "\n",
        "#using the total vocab from the training split\n",
        "tokenizer.fit_on_texts(training_sentences)\n",
        "\n",
        "#creating a dictionary for the tokenized vocab\n",
        "word_index = tokenizer.word_index\n",
        "word_index_flip = {v: k for k, v in word_index.items()}\n",
        "#word_index_flip[31500]\n",
        "#len(word_index)"
      ],
      "execution_count": null,
      "outputs": []
    },
    {
      "cell_type": "code",
      "metadata": {
        "id": "1GLYq2cjuWnY",
        "colab_type": "code",
        "colab": {}
      },
      "source": [
        "#padding and tokenizing the training split tweets\n",
        "training_sentences = tokenizer.texts_to_sequences(training_sentences)\n",
        "training_padded = pad_sequences(training_sentences, maxlen=max_length, padding=padding_type, truncating=trunc_type)\n",
        "\n",
        "#padding and tokenizing the testing split tweets\n",
        "testing_sentences = tokenizer.texts_to_sequences(testing_sentences)\n",
        "testing_padded = pad_sequences(testing_sentences, maxlen=max_length, padding=padding_type, truncating=trunc_type)"
      ],
      "execution_count": null,
      "outputs": []
    },
    {
      "cell_type": "code",
      "metadata": {
        "id": "wFKis7XpuXhU",
        "colab_type": "code",
        "colab": {}
      },
      "source": [
        "#changing the data into a np.array\n",
        "training_padded = np.array(training_padded)\n",
        "training_labels = np.array(training_labels)\n",
        "testing_padded = np.array(testing_padded)\n",
        "testing_labels = np.array(testing_labels)"
      ],
      "execution_count": null,
      "outputs": []
    },
    {
      "cell_type": "code",
      "metadata": {
        "id": "3lm3uLK0ur5-",
        "colab_type": "code",
        "colab": {}
      },
      "source": [
        "#building the model architecture (using 1 pooling and 1 dense layer)\n",
        "model = tf.keras.Sequential([\n",
        "    tf.keras.layers.Embedding(vocab_size, embedding_dim, input_length=max_length),\n",
        "    tf.keras.layers.GlobalAveragePooling1D(),\n",
        "    tf.keras.layers.Dense(48, activation='relu'),\n",
        "    tf.keras.layers.Dense(1, activation='sigmoid')\n",
        "])\n",
        "model.compile(loss='binary_crossentropy',optimizer='adam',metrics=['accuracy'])"
      ],
      "execution_count": null,
      "outputs": []
    },
    {
      "cell_type": "code",
      "metadata": {
        "id": "Fmg3dI0Cus5Y",
        "colab_type": "code",
        "colab": {
          "base_uri": "https://localhost:8080/",
          "height": 289
        },
        "outputId": "8c710218-2fc9-4a39-ed71-da1a37d799f1"
      },
      "source": [
        "model.summary()"
      ],
      "execution_count": null,
      "outputs": [
        {
          "output_type": "stream",
          "text": [
            "Model: \"sequential\"\n",
            "_________________________________________________________________\n",
            "Layer (type)                 Output Shape              Param #   \n",
            "=================================================================\n",
            "embedding (Embedding)        (None, 32, 16)            448000    \n",
            "_________________________________________________________________\n",
            "global_average_pooling1d (Gl (None, 16)                0         \n",
            "_________________________________________________________________\n",
            "dense (Dense)                (None, 48)                816       \n",
            "_________________________________________________________________\n",
            "dense_1 (Dense)              (None, 1)                 49        \n",
            "=================================================================\n",
            "Total params: 448,865\n",
            "Trainable params: 448,865\n",
            "Non-trainable params: 0\n",
            "_________________________________________________________________\n"
          ],
          "name": "stdout"
        }
      ]
    },
    {
      "cell_type": "markdown",
      "metadata": {
        "id": "y8DSIt0q0vje",
        "colab_type": "text"
      },
      "source": [
        "**Training the model**"
      ]
    },
    {
      "cell_type": "code",
      "metadata": {
        "id": "EhZ-dPaKuwEb",
        "colab_type": "code",
        "colab": {
          "base_uri": "https://localhost:8080/",
          "height": 921
        },
        "outputId": "0ebb4c4c-5bb2-4f2c-9e62-eb04a75336bd"
      },
      "source": [
        "#making directory to store best performing models\n",
        "!mkdir \"gdrive/My Drive/Colab Notebooks/Ignition Hack/best\"\n",
        "\n",
        "\n",
        "model_checkpoint_callback = tf.keras.callbacks.ModelCheckpoint(\n",
        "    filepath = \"gdrive/My Drive/Colab Notebooks/Ignition Hack/best\", \n",
        "    save_weights_only = False, \n",
        "    monitor = 'val_accuracy', \n",
        "    mode = 'auto', \n",
        "    save_best_only = True)\n",
        "\n",
        "model.fit(training_padded, training_labels, epochs=20, validation_data=(testing_padded, testing_labels), verbose=1, callbacks=model_checkpoint_callback)"
      ],
      "execution_count": null,
      "outputs": [
        {
          "output_type": "stream",
          "text": [
            "mkdir: cannot create directory ‘gdrive/My Drive/Colab Notebooks/Ignition Hack/best’: File exists\n",
            "Epoch 1/20\n",
            "21869/21875 [============================>.] - ETA: 0s - loss: 0.4439 - accuracy: 0.7926WARNING:tensorflow:From /usr/local/lib/python3.6/dist-packages/tensorflow/python/training/tracking/tracking.py:111: Model.state_updates (from tensorflow.python.keras.engine.training) is deprecated and will be removed in a future version.\n",
            "Instructions for updating:\n",
            "This property should not be used in TensorFlow 2.0, as updates are applied automatically.\n",
            "WARNING:tensorflow:From /usr/local/lib/python3.6/dist-packages/tensorflow/python/training/tracking/tracking.py:111: Layer.updates (from tensorflow.python.keras.engine.base_layer) is deprecated and will be removed in a future version.\n",
            "Instructions for updating:\n",
            "This property should not be used in TensorFlow 2.0, as updates are applied automatically.\n",
            "INFO:tensorflow:Assets written to: gdrive/My Drive/Colab Notebooks/Ignition Hack/best/assets\n",
            "21875/21875 [==============================] - 137s 6ms/step - loss: 0.4439 - accuracy: 0.7926 - val_loss: 0.4328 - val_accuracy: 0.7989\n",
            "Epoch 2/20\n",
            "21870/21875 [============================>.] - ETA: 0s - loss: 0.4161 - accuracy: 0.8077INFO:tensorflow:Assets written to: gdrive/My Drive/Colab Notebooks/Ignition Hack/best/assets\n",
            "21875/21875 [==============================] - 141s 6ms/step - loss: 0.4161 - accuracy: 0.8077 - val_loss: 0.4306 - val_accuracy: 0.7996\n",
            "Epoch 3/20\n",
            "21869/21875 [============================>.] - ETA: 0s - loss: 0.4043 - accuracy: 0.8143INFO:tensorflow:Assets written to: gdrive/My Drive/Colab Notebooks/Ignition Hack/best/assets\n",
            "21875/21875 [==============================] - 142s 6ms/step - loss: 0.4043 - accuracy: 0.8143 - val_loss: 0.4280 - val_accuracy: 0.8016\n",
            "Epoch 4/20\n",
            "21868/21875 [============================>.] - ETA: 0s - loss: 0.3955 - accuracy: 0.8191INFO:tensorflow:Assets written to: gdrive/My Drive/Colab Notebooks/Ignition Hack/best/assets\n",
            "21875/21875 [==============================] - 141s 6ms/step - loss: 0.3955 - accuracy: 0.8191 - val_loss: 0.4343 - val_accuracy: 0.8016\n",
            "Epoch 5/20\n",
            "21875/21875 [==============================] - 142s 6ms/step - loss: 0.3871 - accuracy: 0.8240 - val_loss: 0.4316 - val_accuracy: 0.8013\n",
            "Epoch 6/20\n",
            "21875/21875 [==============================] - 139s 6ms/step - loss: 0.3784 - accuracy: 0.8287 - val_loss: 0.4351 - val_accuracy: 0.7996\n",
            "Epoch 7/20\n",
            "21875/21875 [==============================] - 141s 6ms/step - loss: 0.3699 - accuracy: 0.8332 - val_loss: 0.4396 - val_accuracy: 0.7990\n",
            "Epoch 8/20\n",
            "21875/21875 [==============================] - 141s 6ms/step - loss: 0.3614 - accuracy: 0.8379 - val_loss: 0.4469 - val_accuracy: 0.7979\n",
            "Epoch 9/20\n",
            "21875/21875 [==============================] - 141s 6ms/step - loss: 0.3529 - accuracy: 0.8425 - val_loss: 0.4557 - val_accuracy: 0.7956\n",
            "Epoch 10/20\n",
            "21875/21875 [==============================] - 138s 6ms/step - loss: 0.3449 - accuracy: 0.8473 - val_loss: 0.4616 - val_accuracy: 0.7945\n",
            "Epoch 11/20\n",
            "21875/21875 [==============================] - 137s 6ms/step - loss: 0.3373 - accuracy: 0.8515 - val_loss: 0.4668 - val_accuracy: 0.7931\n",
            "Epoch 12/20\n",
            "21875/21875 [==============================] - 137s 6ms/step - loss: 0.3303 - accuracy: 0.8552 - val_loss: 0.4807 - val_accuracy: 0.7898\n",
            "Epoch 13/20\n",
            "21875/21875 [==============================] - 136s 6ms/step - loss: 0.3239 - accuracy: 0.8584 - val_loss: 0.4861 - val_accuracy: 0.7895\n",
            "Epoch 14/20\n",
            "21875/21875 [==============================] - 134s 6ms/step - loss: 0.3177 - accuracy: 0.8623 - val_loss: 0.4923 - val_accuracy: 0.7853\n",
            "Epoch 15/20\n",
            "21875/21875 [==============================] - 132s 6ms/step - loss: 0.3116 - accuracy: 0.8654 - val_loss: 0.5031 - val_accuracy: 0.7865\n",
            "Epoch 16/20\n",
            "21875/21875 [==============================] - 133s 6ms/step - loss: 0.3062 - accuracy: 0.8682 - val_loss: 0.5156 - val_accuracy: 0.7869\n",
            "Epoch 17/20\n",
            "21875/21875 [==============================] - 131s 6ms/step - loss: 0.3008 - accuracy: 0.8707 - val_loss: 0.5258 - val_accuracy: 0.7843\n",
            "Epoch 18/20\n",
            "21875/21875 [==============================] - 131s 6ms/step - loss: 0.2958 - accuracy: 0.8732 - val_loss: 0.5278 - val_accuracy: 0.7801\n",
            "Epoch 19/20\n",
            "21875/21875 [==============================] - 132s 6ms/step - loss: 0.2910 - accuracy: 0.8757 - val_loss: 0.5366 - val_accuracy: 0.7813\n",
            "Epoch 20/20\n",
            "21875/21875 [==============================] - 133s 6ms/step - loss: 0.2862 - accuracy: 0.8782 - val_loss: 0.5440 - val_accuracy: 0.7775\n"
          ],
          "name": "stdout"
        },
        {
          "output_type": "execute_result",
          "data": {
            "text/plain": [
              "<tensorflow.python.keras.callbacks.History at 0x7f8d14339860>"
            ]
          },
          "metadata": {
            "tags": []
          },
          "execution_count": 24
        }
      ]
    },
    {
      "cell_type": "code",
      "metadata": {
        "id": "2M9SaE8q91ET",
        "colab_type": "code",
        "colab": {
          "base_uri": "https://localhost:8080/",
          "height": 34
        },
        "outputId": "e62f564c-e393-4ccc-d788-a56857a492e4"
      },
      "source": [
        "#saving the model for future use, must be .model\n",
        "model.save(project_path + \"Sentiment_predictor.model\")"
      ],
      "execution_count": null,
      "outputs": [
        {
          "output_type": "stream",
          "text": [
            "INFO:tensorflow:Assets written to: gdrive/My Drive/Colab Notebooks/Ignition Hack/Sentiment_predictor.model/assets\n"
          ],
          "name": "stdout"
        }
      ]
    },
    {
      "cell_type": "markdown",
      "metadata": {
        "id": "HMPlO3DZ2xYZ",
        "colab_type": "text"
      },
      "source": [
        "**Using the best model(previously saved) to predict the sentiment of the judgement data**"
      ]
    },
    {
      "cell_type": "code",
      "metadata": {
        "id": "PuObzkaY2wlp",
        "colab_type": "code",
        "colab": {
          "base_uri": "https://localhost:8080/",
          "height": 204
        },
        "outputId": "dbb7a13f-9832-41a4-9e3b-f1b35939a68c"
      },
      "source": [
        "#loading the full judgement CSV file\n",
        "judgement_data = pd.read_csv(project_path + \"/data/judgement.csv\")\n",
        "\n",
        "#clean data for case and punctuation\n",
        "judgement_data.Text = judgement_data.Text.apply(lambda x: \" \".join(word.lower() for word in x.split()))\n",
        "judgement_data.Text = judgement_data.Text.str.replace('[^\\w\\s]', '')\n",
        "\n",
        "#display a sample from the array\n",
        "judgement_data.head()"
      ],
      "execution_count": null,
      "outputs": [
        {
          "output_type": "execute_result",
          "data": {
            "text/html": [
              "<div>\n",
              "<style scoped>\n",
              "    .dataframe tbody tr th:only-of-type {\n",
              "        vertical-align: middle;\n",
              "    }\n",
              "\n",
              "    .dataframe tbody tr th {\n",
              "        vertical-align: top;\n",
              "    }\n",
              "\n",
              "    .dataframe thead th {\n",
              "        text-align: right;\n",
              "    }\n",
              "</style>\n",
              "<table border=\"1\" class=\"dataframe\">\n",
              "  <thead>\n",
              "    <tr style=\"text-align: right;\">\n",
              "      <th></th>\n",
              "      <th>ID</th>\n",
              "      <th>User</th>\n",
              "      <th>Text</th>\n",
              "    </tr>\n",
              "  </thead>\n",
              "  <tbody>\n",
              "    <tr>\n",
              "      <th>0</th>\n",
              "      <td>599303</td>\n",
              "      <td>sauce_pot</td>\n",
              "      <td>im on my way to miss kacys 4th bday party at b...</td>\n",
              "    </tr>\n",
              "    <tr>\n",
              "      <th>1</th>\n",
              "      <td>359673</td>\n",
              "      <td>lovelyritaz</td>\n",
              "      <td>ripestapple i might not be the right person to...</td>\n",
              "    </tr>\n",
              "    <tr>\n",
              "      <th>2</th>\n",
              "      <td>391095</td>\n",
              "      <td>Dannymassacur</td>\n",
              "      <td>zomgkris i know it is</td>\n",
              "    </tr>\n",
              "    <tr>\n",
              "      <th>3</th>\n",
              "      <td>820049</td>\n",
              "      <td>Ms_Lady09</td>\n",
              "      <td>mii vision is blurryim goin to bednite niteihu...</td>\n",
              "    </tr>\n",
              "    <tr>\n",
              "      <th>4</th>\n",
              "      <td>658429</td>\n",
              "      <td>EvilSue</td>\n",
              "      <td>tealou anyways  i did something good for someo...</td>\n",
              "    </tr>\n",
              "  </tbody>\n",
              "</table>\n",
              "</div>"
            ],
            "text/plain": [
              "       ID           User                                               Text\n",
              "0  599303      sauce_pot  im on my way to miss kacys 4th bday party at b...\n",
              "1  359673    lovelyritaz  ripestapple i might not be the right person to...\n",
              "2  391095  Dannymassacur                              zomgkris i know it is\n",
              "3  820049      Ms_Lady09  mii vision is blurryim goin to bednite niteihu...\n",
              "4  658429        EvilSue  tealou anyways  i did something good for someo..."
            ]
          },
          "metadata": {
            "tags": []
          },
          "execution_count": 66
        }
      ]
    },
    {
      "cell_type": "code",
      "metadata": {
        "id": "Xz5eynFw3w5q",
        "colab_type": "code",
        "colab": {}
      },
      "source": [
        "#padding and tokenizing the judgement data text\n",
        "text_encoded = tokenizer.texts_to_sequences(judgement_data.Text)\n",
        "text_padded = pad_sequences(text_encoded, maxlen=max_length, padding=padding_type, truncating=trunc_type)"
      ],
      "execution_count": null,
      "outputs": []
    },
    {
      "cell_type": "code",
      "metadata": {
        "id": "Kcnv-pCI7THK",
        "colab_type": "code",
        "colab": {
          "base_uri": "https://localhost:8080/",
          "height": 136
        },
        "outputId": "b688a730-dcf7-4726-d1e0-93e7e1428a8f"
      },
      "source": [
        "text_padded"
      ],
      "execution_count": null,
      "outputs": [
        {
          "output_type": "execute_result",
          "data": {
            "text/plain": [
              "array([[  14,   15,    6, ...,    0,    0,    0],\n",
              "       [   1,    2,  278, ...,    0,    0,    0],\n",
              "       [   1,    2,   58, ...,    0,    0,    0],\n",
              "       ...,\n",
              "       [   1,   82,   14, ...,    0,    0,    0],\n",
              "       [2191,    1,  108, ...,    0,    0,    0],\n",
              "       [  44,  792,  478, ...,    0,    0,    0]], dtype=int32)"
            ]
          },
          "metadata": {
            "tags": []
          },
          "execution_count": 70
        }
      ]
    },
    {
      "cell_type": "code",
      "metadata": {
        "id": "wWyNcJ2R4kGU",
        "colab_type": "code",
        "colab": {}
      },
      "source": [
        "#loading the best model\n",
        "model = keras.models.load_model(\"gdrive/My Drive/Colab Notebooks/Ignition Hack/best\")\n",
        "\n",
        "#make predictions using the train dataset\n",
        "predictions = model.predict(text_padded)\n",
        "\n",
        "#changing to the predictions to integers\n",
        "predictions = np.around(predictions)\n",
        "predictions = predictions.astype(int)"
      ],
      "execution_count": null,
      "outputs": []
    },
    {
      "cell_type": "code",
      "metadata": {
        "id": "W0B9kS5k6lWW",
        "colab_type": "code",
        "colab": {}
      },
      "source": [
        "#reloading the full judgement CSV file\n",
        "judgement_data = pd.read_csv(project_path + \"/data/judgement.csv\")\n",
        "\n",
        "#appending the predicted data as a new column\n",
        "judgement_data['Sentiment'] = predictions\n",
        "\n",
        "#saving as a CSV with the predicted values\n",
        "judgement_data.to_csv(project_path + \"/data/predictions.csv\")"
      ],
      "execution_count": null,
      "outputs": []
    }
  ]
}